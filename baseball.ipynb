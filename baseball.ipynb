{
 "cells": [
  {
   "cell_type": "markdown",
   "metadata": {},
   "source": [
    "BASEBALL GAME\n",
    "You are keeping score for a baseball game with strange rules. The game consist of several rounds, where the\n",
    "scores of past rounds may affect future rounds' scores.\n",
    "At the beginning of the game, you start with an empty record. You are given a list of strings ops, where\n",
    "ops[i] is the ith operation you must apply to the record and is one of the following:\n",
    "An integer x - Record a new score of x,\n",
    "\"+\" - Record a new score that is the sum of the previous scores. It is guaranteed there will always be\n",
    "two previous scores.\n",
    "\"D\" - Record a new score that is double the previous score. It is guaranteed there will always be a\n",
    "previous score.\n",
    "\"C\" - Invalidate the pevious score, removing it from the record. It is guaranteed there will always be a\n",
    "previous score.\n",
    "Return the sum of all the scores on the record.\n"
   ]
  },
  {
   "cell_type": "markdown",
   "metadata": {},
   "source": [
    "Example 1:\n",
    "Input: ops = [\"5\", \"2\", \"C\", \"D\", \"+\"]\n",
    "Output: 30\n",
    "Explanation:\n",
    "\"5\" - Add 5 to the record, record is now [5],\n",
    "\"2\" - Add 2 to the record, record is now [5, 2],\n",
    "\"C\" - Invalidate and remove the previous score, record is now [5],\n",
    "\"D\" - Add 2 * 5 = 10 to the record, record is now [5, 10],\n",
    "\"+\" - Add 5 + 10 = 15 to the record, record is now [5, 10, 15],\n",
    "The total sum is 5 + 10 + 15 = 30"
   ]
  },
  {
   "cell_type": "code",
   "execution_count": 1,
   "metadata": {},
   "outputs": [
    {
     "name": "stdout",
     "output_type": "stream",
     "text": [
      "30\n",
      "27\n"
     ]
    }
   ],
   "source": [
    "ops1 = [\"5\", \"2\", \"C\", \"D\", \"+\"]\n",
    "ops2 = [\"5\", \"-2\", \"4\", \"C\", \"D\", \"9\", \"+\", \"+\"]\n",
    "def baseball(list):\n",
    "    new_list = []\n",
    "    for i in list:\n",
    "        if i == \"C\":\n",
    "            new_list.pop()\n",
    "        elif i == \"D\":\n",
    "            new_list.append(new_list[-1] * 2)\n",
    "        elif i == \"+\":\n",
    "            new_list.append(new_list[-1] + new_list[-2])\n",
    "        else:\n",
    "            new_list.append(int(i))\n",
    "    return sum(new_list)\n",
    "\n",
    "\n",
    "print(baseball(ops1))\n",
    "print(baseball(ops2))"
   ]
  }
 ],
 "metadata": {
  "kernelspec": {
   "display_name": "Python 3.10.2 64-bit",
   "language": "python",
   "name": "python3"
  },
  "language_info": {
   "codemirror_mode": {
    "name": "ipython",
    "version": 3
   },
   "file_extension": ".py",
   "mimetype": "text/x-python",
   "name": "python",
   "nbconvert_exporter": "python",
   "pygments_lexer": "ipython3",
   "version": "3.10.2"
  },
  "orig_nbformat": 4,
  "vscode": {
   "interpreter": {
    "hash": "875a6aaa4a14e73d44e52317d6fe9dcf8d2fa876a96db5de4b449835783df0ad"
   }
  }
 },
 "nbformat": 4,
 "nbformat_minor": 2
}
